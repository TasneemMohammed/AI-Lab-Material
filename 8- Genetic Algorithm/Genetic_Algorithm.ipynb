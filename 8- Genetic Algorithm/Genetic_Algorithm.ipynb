{
 "cells": [
  {
   "cell_type": "markdown",
   "metadata": {
    "id": "lUI4cvpu2o73"
   },
   "source": [
    "# **The Knapsack Problem using Genetic Algorithm**"
   ]
  },
  {
   "cell_type": "markdown",
   "metadata": {
    "id": "TwmJN1m63m0m"
   },
   "source": [
    "Given: a knapsack of a certain capacity and a set of items with their sizes and values\n",
    "\n",
    "Target: to maximize the value of the items placed in the knapsack without exceeding the capacity\n",
    "\n",
    "The knapsack problem can be formulated in many ways, but it is generally considered to be a difficult problem to solve when employing traditional algorithms."
   ]
  },
  {
   "cell_type": "markdown",
   "metadata": {
    "id": "F_ad7jW36_oA"
   },
   "source": [
    "## **Genetic programming**\n"
   ]
  },
  {
   "cell_type": "markdown",
   "metadata": {
    "id": "94y1ofJG64-E"
   },
   "source": [
    "By using genetic programming, it is possible to quickly find a solution that is “good enough” for the given problem.\n",
    "\n",
    "In genetic programming, a set of possible solutions (or initial generation) are randomly generated, and then evaluated based on a set of criteria.\n",
    "\n",
    "Those solutions that best fit the criteria are then selected, and genetic mutations are applied to create new solution variants (or subsequent generations).\n",
    "\n",
    "This new generation of variants is then evaluated and the process is repeated until a satisfactory solution is found.\n",
    "\n",
    "The process is repeated until an optimal, or best “good enough”, solution is found.\n",
    "\n",
    "The advantage of using genetic programming to solve the knapsack problem is that a good enough solution can be found quickly without having to exhaustively search through all possible solutions. This makes it a much more efficient approach than traditional algorithms, and allows for a much faster solution to be found.\n",
    "\n",
    "\n",
    "\n"
   ]
  },
  {
   "cell_type": "markdown",
   "metadata": {
    "id": "xJDqdE-f69QK"
   },
   "source": [
    "**The program is implemented in Python, using no third party libraries**\n",
    "\n"
   ]
  },
  {
   "cell_type": "markdown",
   "metadata": {
    "id": "mZyEU4Bi01JK"
   },
   "source": [
    "1- **Import the needed libraries**\n"
   ]
  },
  {
   "cell_type": "code",
   "execution_count": 1,
   "metadata": {
    "id": "fbdcUSa7qJLP"
   },
   "outputs": [],
   "source": [
    "import random"
   ]
  },
  {
   "cell_type": "markdown",
   "metadata": {
    "id": "XfvQksnz0-ul"
   },
   "source": [
    "2- **Items that can be put in the Knapsack, associated with their weights**\n"
   ]
  },
  {
   "cell_type": "code",
   "execution_count": 2,
   "metadata": {
    "colab": {
     "base_uri": "https://localhost:8080/"
    },
    "id": "mL3H8ctaqiBR",
    "outputId": "a59b6d0a-522f-4169-de09-3434e8ca4629"
   },
   "outputs": [
    {
     "name": "stdout",
     "output_type": "stream",
     "text": [
      "Available items:\n",
      " [[1, 2], [2, 4], [3, 4], [4, 5], [5, 7], [6, 9]]\n"
     ]
    }
   ],
   "source": [
    "items = [\n",
    "\t\t[1, 2],\n",
    "\t\t[2, 4],\n",
    "\t\t[3, 4],\n",
    "\t\t[4, 5],\n",
    "\t\t[5, 7],\n",
    "\t\t[6, 9]\n",
    "\t]\n",
    "\n",
    "# print available items\n",
    "print(\"Available items:\\n\", items)"
   ]
  },
  {
   "cell_type": "markdown",
   "metadata": {
    "id": "9Xmin5mz2XE5"
   },
   "source": [
    "3- **Initialize the genetic algorithm parameters**\n"
   ]
  },
  {
   "cell_type": "code",
   "execution_count": 4,
   "metadata": {
    "colab": {
     "base_uri": "https://localhost:8080/"
    },
    "id": "tPUfZb_1qp6g",
    "outputId": "61adb6aa-56b6-4847-8369-8497d0545ab3"
   },
   "outputs": [
    {
     "name": "stdout",
     "output_type": "stream",
     "text": [
      "\n",
      "Genetic algorithm parameters:\n",
      "Max weight: 10\n",
      "Population: 10\n",
      "Mutation probability: 0.2\n",
      "Generations: 10 \n",
      "\n"
     ]
    }
   ],
   "source": [
    "max_weight = 10\n",
    "population_size = 10\n",
    "mutation_probability = 0.2\n",
    "generations = 10\n",
    "\n",
    "print(\"\\nGenetic algorithm parameters:\")\n",
    "print(\"Max weight:\", max_weight)\n",
    "print(\"Population:\", population_size)\n",
    "print(\"Mutation probability:\", mutation_probability)\n",
    "print(\"Generations:\", generations, \"\\n\")\n",
    "#print(\"Performing genetic evolution:\")"
   ]
  },
  {
   "cell_type": "markdown",
   "metadata": {
    "id": "LnaBnMFqz4q1"
   },
   "source": [
    "4- **Generate random population**\n",
    "\n",
    "This function generates a random population of a given size\n",
    "\n",
    "It uses a for loop to iterate through the given size, and for each iteration it creates a chromosome. This chromosome is a list of 0s and 1s, which is generated using the random.choice() function. The chromosome is then appended to the population list. Finally, the function prints out a message and returns the population list. This function is useful for creating a population of individuals for genetic algorithms."
   ]
  },
  {
   "cell_type": "code",
   "execution_count": null,
   "metadata": {
    "id": "Cw7qsI72qNEV"
   },
   "outputs": [],
   "source": [
    "# function to generate a random population\n",
    "def generate_population(size):\n",
    "\tpopulation = []\n",
    "\tfor _ in range(size):\n",
    "\t\tgenes = [0, 1]\n",
    "\t\tchromosome = []\n",
    "\t\tfor _ in range(len(items)):\n",
    "\t\t\tchromosome.append(random.choice(genes))\n",
    "\t\tpopulation.append(chromosome)\n",
    "\tprint(\"Generated a random population of size\", size)\n",
    "\treturn population"
   ]
  },
  {
   "cell_type": "code",
   "execution_count": null,
   "metadata": {
    "colab": {
     "base_uri": "https://localhost:8080/"
    },
    "id": "qwqGjrUOqsuA",
    "outputId": "f0a92c60-14e9-4900-e1e0-003e7b386e84"
   },
   "outputs": [
    {
     "name": "stdout",
     "output_type": "stream",
     "text": [
      "Generated a random population of size 10\n"
     ]
    },
    {
     "data": {
      "text/plain": [
       "[[1, 1, 0, 1, 1, 1],\n",
       " [1, 0, 0, 0, 1, 0],\n",
       " [1, 0, 1, 1, 1, 0],\n",
       " [1, 0, 0, 1, 0, 1],\n",
       " [1, 1, 1, 1, 1, 1],\n",
       " [1, 1, 0, 0, 0, 0],\n",
       " [0, 0, 1, 1, 1, 1],\n",
       " [1, 1, 1, 0, 1, 1],\n",
       " [1, 1, 0, 1, 0, 0],\n",
       " [1, 1, 1, 0, 0, 0]]"
      ]
     },
     "execution_count": 37,
     "metadata": {},
     "output_type": "execute_result"
    }
   ],
   "source": [
    "# generate a random population\n",
    "population = generate_population(population_size)\n",
    "population"
   ]
  },
  {
   "cell_type": "markdown",
   "metadata": {
    "id": "AHQN6Dsu4BI6"
   },
   "source": [
    "5- **Calculate chromosome fitness**\n",
    "\n",
    "This function is used to calculate the fitness of a chromosome. It takes a chromosome as an argument and iterates through it. If the value of the chromosome at a given index is 1, it adds the corresponding item's weight and value to the total weight and total value respectively. If the total weight exceeds the maximum weight, the fitness is set to 0. Otherwise, the fitness is set to the total value. This function is used in genetic algorithms to determine the fitness of a given chromosome."
   ]
  },
  {
   "cell_type": "code",
   "execution_count": null,
   "metadata": {
    "id": "zShNHTe3qSC3"
   },
   "outputs": [],
   "source": [
    "# function to calculate the fitness of a chromosome\n",
    "def calculate_fitness(chromosome):\n",
    "\ttotal_weight = 0\n",
    "\ttotal_value = 0\n",
    "\tfor i in range(len(chromosome)):\n",
    "\t\tif chromosome[i] == 1:\n",
    "\t\t\ttotal_weight += items[i][0]\n",
    "\t\t\ttotal_value += items[i][1]\n",
    "\tif total_weight > max_weight:\n",
    "\t\treturn 0\n",
    "\telse:\n",
    "\t\treturn total_value"
   ]
  },
  {
   "cell_type": "markdown",
   "metadata": {
    "id": "-MuNKoEM4OrE"
   },
   "source": [
    "6- **Select chromosomes**\n",
    "\n",
    "This function is used to select two chromosomes from a population for crossover. It first calculates the fitness values of each chromosome in the population using the calculate_fitness() function. It then normalizes the fitness values by dividing each value by the sum of all fitness values. Finally, it uses the random.choices() function to randomly select two chromosomes from the population based on the normalized fitness values. The two selected chromosomes are then returned as the parent chromosomes for crossover."
   ]
  },
  {
   "cell_type": "code",
   "execution_count": null,
   "metadata": {
    "id": "yTpVdsD5qWzo"
   },
   "outputs": [],
   "source": [
    "# function to select two chromosomes for crossover\n",
    "def select_chromosomes(population):\n",
    "\tfitness_values = []\n",
    "\tfor chromosome in population:\n",
    "\t\tfitness_values.append(calculate_fitness(chromosome))\n",
    "\n",
    "\tfitness_values = [float(i)/sum(fitness_values) for i in fitness_values]\n",
    "\n",
    "\tparent1 = random.choices(population, weights=fitness_values, k=1)[0]\n",
    "\tparent2 = random.choices(population, weights=fitness_values, k=1)[0]\n",
    "\n",
    "\tprint(\"Selected two chromosomes for crossover\")\n",
    "\treturn parent1, parent2"
   ]
  },
  {
   "cell_type": "markdown",
   "metadata": {
    "id": "pXYkuQg24b96"
   },
   "source": [
    "7- **Perform crossover**\n",
    "\n",
    "This function performs crossover between two chromosomes. It takes two parent chromosomes as input and randomly selects a crossover point. It then creates two child chromosomes by combining the two parent chromosomes at the crossover point. The first child chromosome is created by taking the first part of the first parent chromosome and the second part of the second parent chromosome. The second child chromosome is created by taking the first part of the second parent chromosome and the second part of the first parent chromosome. Finally, the two child chromosomes are returned as the output."
   ]
  },
  {
   "cell_type": "code",
   "execution_count": null,
   "metadata": {
    "id": "Lbl3jMtQqZZg"
   },
   "outputs": [],
   "source": [
    "# function to perform crossover between two chromosomes\n",
    "def crossover(parent1, parent2):\n",
    "\tcrossover_point = random.randint(0, len(items)-1)\n",
    "\tchild1 = parent1[0:crossover_point] + parent2[crossover_point:]\n",
    "\tchild2 = parent2[0:crossover_point] + parent1[crossover_point:]\n",
    "\n",
    "\tprint(\"Performed crossover between two chromosomes\")\n",
    "\treturn child1, child2"
   ]
  },
  {
   "cell_type": "markdown",
   "metadata": {
    "id": "ZbkWjxVI4l-X"
   },
   "source": [
    "8- **Perform mutation**\n",
    "\n",
    "This function performs a mutation on a chromosome. It takes in a chromosome as an argument and uses the random module to generate a random number between 0 and the length of the chromosome. If the value at the mutation point is 0, it is changed to 1, and if it is 1, it is changed to 0. The function then prints a message and returns the mutated chromosome. This function can be used to simulate genetic mutations in a population of organisms."
   ]
  },
  {
   "cell_type": "code",
   "execution_count": null,
   "metadata": {
    "id": "d304igFrqceB"
   },
   "outputs": [],
   "source": [
    "# function to perform mutation on a chromosome\n",
    "def mutate(chromosome):\n",
    "\tmutation_point = random.randint(0, len(items)-1)\n",
    "\tif chromosome[mutation_point] == 0:\n",
    "\t\tchromosome[mutation_point] = 1\n",
    "\telse:\n",
    "\t\tchromosome[mutation_point] = 0\n",
    "\tprint(\"Performed mutation on a chromosome\")\n",
    "\treturn chromosome"
   ]
  },
  {
   "cell_type": "markdown",
   "metadata": {
    "id": "Zz4x5KYT4zJH"
   },
   "source": [
    "9- **Get best chromosome**\n",
    "\n",
    "This function takes in a population of chromosomes and returns the best chromosome from the population. It does this by first creating a list of fitness values for each chromosome in the population. It then finds the maximum fitness value and its corresponding index in the list. Finally, it returns the chromosome at the index of the maximum fitness value. This function is useful for finding the best chromosome from a population of chromosomes in order to use it for further operations."
   ]
  },
  {
   "cell_type": "code",
   "execution_count": null,
   "metadata": {
    "id": "LzKUlTUCqfYS"
   },
   "outputs": [],
   "source": [
    "# function to get the best chromosome from the population\n",
    "def get_best(population):\n",
    "\tfitness_values = []\n",
    "\tfor chromosome in population:\n",
    "\t\tfitness_values.append(calculate_fitness(chromosome))\n",
    "\n",
    "\tmax_value = max(fitness_values)\n",
    "\tmax_index = fitness_values.index(max_value)\n",
    "\treturn population[max_index]"
   ]
  },
  {
   "cell_type": "code",
   "execution_count": null,
   "metadata": {
    "colab": {
     "base_uri": "https://localhost:8080/"
    },
    "id": "gWn67UTcq10w",
    "outputId": "01943147-11da-4bb0-c142-575f74753e1c"
   },
   "outputs": [
    {
     "data": {
      "text/plain": [
       "[1, 1, 0, 1, 0, 0]"
      ]
     },
     "execution_count": 44,
     "metadata": {},
     "output_type": "execute_result"
    }
   ],
   "source": [
    "# get the best chromosome from the population\n",
    "best = get_best(population)\n",
    "best"
   ]
  },
  {
   "cell_type": "markdown",
   "metadata": {
    "id": "xPjSa7nW5Dgp"
   },
   "source": [
    "10- **The control loop**\n",
    "\n",
    "This code is performing an evolutionary algorithm to evolve a population of chromosomes. It starts by looping through the specified number of generations. For each generation, two chromosomes are selected from the population, and then crossover is performed on them to generate two new chromosomes. Then, the two new chromosomes are subjected to mutation with a given probability. The new chromosomes are individually subject to a random genetic mutation if the randomly generated probability is above the predetermined threshold. Finally, the old population is replaced with the new population, which consists of the two new chromosomes and the remaining chromosomes from the old population."
   ]
  },
  {
   "cell_type": "code",
   "execution_count": null,
   "metadata": {
    "colab": {
     "base_uri": "https://localhost:8080/"
    },
    "id": "JWKL7gqzqvbs",
    "outputId": "03b0ec0d-02e1-441c-9712-25cf3f9060f8"
   },
   "outputs": [
    {
     "name": "stdout",
     "output_type": "stream",
     "text": [
      "Selected two chromosomes for crossover\n",
      "Performed crossover between two chromosomes\n",
      "Selected two chromosomes for crossover\n",
      "Performed crossover between two chromosomes\n",
      "Selected two chromosomes for crossover\n",
      "Performed crossover between two chromosomes\n",
      "Performed mutation on a chromosome\n",
      "Selected two chromosomes for crossover\n",
      "Performed crossover between two chromosomes\n",
      "Selected two chromosomes for crossover\n",
      "Performed crossover between two chromosomes\n",
      "Performed mutation on a chromosome\n",
      "Selected two chromosomes for crossover\n",
      "Performed crossover between two chromosomes\n",
      "Selected two chromosomes for crossover\n",
      "Performed crossover between two chromosomes\n",
      "Selected two chromosomes for crossover\n",
      "Performed crossover between two chromosomes\n",
      "Selected two chromosomes for crossover\n",
      "Performed crossover between two chromosomes\n",
      "Performed mutation on a chromosome\n",
      "Selected two chromosomes for crossover\n",
      "Performed crossover between two chromosomes\n"
     ]
    }
   ],
   "source": [
    "# evolve the population for specified number of generations\n",
    "for _ in range(generations):\n",
    "\t# select two chromosomes for crossover\n",
    "\tparent1, parent2 = select_chromosomes(population)\n",
    "\n",
    "\t# perform crossover to generate two new chromosomes\n",
    "\tchild1, child2 = crossover(parent1, parent2)\n",
    "\n",
    "\t# perform mutation on the two new chromosomes\n",
    "\tif random.uniform(0, 1) < mutation_probability:\n",
    "\t\tchild1 = mutate(child1)\n",
    "\tif random.uniform(0, 1) < mutation_probability:\n",
    "\t\tchild2 = mutate(child2)\n",
    "\n",
    "\t# replace the old population with the new population\n",
    "\tpopulation = [child1, child2] + population[2:]"
   ]
  },
  {
   "cell_type": "markdown",
   "metadata": {
    "id": "5ordTKVl5Nw6"
   },
   "source": [
    "11- **Get the weight and value of the best solution**\n"
   ]
  },
  {
   "cell_type": "code",
   "execution_count": null,
   "metadata": {
    "id": "mHcuh3chq2o-"
   },
   "outputs": [],
   "source": [
    "total_weight = 0\n",
    "total_value = 0\n",
    "for i in range(len(best)):\n",
    "\tif best[i] == 1:\n",
    "\t\ttotal_weight += items[i][0]\n",
    "\t\ttotal_value += items[i][1]"
   ]
  },
  {
   "cell_type": "markdown",
   "metadata": {
    "id": "zosunjeA5ZAd"
   },
   "source": [
    "12- **Print the best solution**\n"
   ]
  },
  {
   "cell_type": "code",
   "execution_count": null,
   "metadata": {
    "colab": {
     "base_uri": "https://localhost:8080/"
    },
    "id": "CLuUVsIpqB3c",
    "outputId": "75ae57eb-2f20-4559-c070-6f448a88f497"
   },
   "outputs": [
    {
     "name": "stdout",
     "output_type": "stream",
     "text": [
      "\n",
      "The best solution:\n",
      "Weight: 7\n",
      "Value: 11\n"
     ]
    }
   ],
   "source": [
    "print(\"\\nThe best solution:\")\n",
    "print(\"Weight:\", total_weight)\n",
    "print(\"Value:\", total_value)"
   ]
  }
 ],
 "metadata": {
  "colab": {
   "provenance": []
  },
  "kernelspec": {
   "display_name": "Python 3 (ipykernel)",
   "language": "python",
   "name": "python3"
  },
  "language_info": {
   "codemirror_mode": {
    "name": "ipython",
    "version": 3
   },
   "file_extension": ".py",
   "mimetype": "text/x-python",
   "name": "python",
   "nbconvert_exporter": "python",
   "pygments_lexer": "ipython3",
   "version": "3.11.7"
  }
 },
 "nbformat": 4,
 "nbformat_minor": 4
}
