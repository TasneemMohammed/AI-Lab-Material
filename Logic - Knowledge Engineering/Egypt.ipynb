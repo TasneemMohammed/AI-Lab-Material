{
 "cells": [
  {
   "cell_type": "code",
   "execution_count": 1,
   "id": "04f3cc1b",
   "metadata": {},
   "outputs": [],
   "source": [
    "from logic import *"
   ]
  },
  {
   "cell_type": "code",
   "execution_count": 2,
   "id": "aaccc5d5",
   "metadata": {},
   "outputs": [],
   "source": [
    "rain = Symbol(\"rain\")\n",
    "egypt = Symbol(\"egypt\")\n",
    "japan = Symbol(\"japan\")"
   ]
  },
  {
   "cell_type": "code",
   "execution_count": 3,
   "id": "6ca94849",
   "metadata": {},
   "outputs": [
    {
     "data": {
      "text/plain": [
       "'rain ∧ egypt'"
      ]
     },
     "execution_count": 3,
     "metadata": {},
     "output_type": "execute_result"
    }
   ],
   "source": [
    "sentence = And(rain, egypt)\n",
    "sentence.formula()"
   ]
  },
  {
   "cell_type": "code",
   "execution_count": 4,
   "id": "09094e19",
   "metadata": {},
   "outputs": [
    {
     "name": "stdout",
     "output_type": "stream",
     "text": [
      "(¬rain) => egypt\n"
     ]
    }
   ],
   "source": [
    "# if it is not raining and harry visited Hagrid\n",
    "knowledge = Implication(Not(rain), egypt)\n",
    "print(knowledge.formula())"
   ]
  },
  {
   "cell_type": "code",
   "execution_count": 5,
   "id": "3237c3a7",
   "metadata": {},
   "outputs": [
    {
     "name": "stdout",
     "output_type": "stream",
     "text": [
      "((¬rain) => egypt) ∧ (egypt ∨  japan) ∧ (¬(egypt ∧ japan)) ∧ japan\n"
     ]
    }
   ],
   "source": [
    "# if it is not raining and harry visited Hagrid or Dumbledore, but not both\n",
    "knowledge = And(\n",
    "    Implication(Not(rain), egypt),\n",
    "    Or(egypt, japan),\n",
    "    Not(And(egypt, japan)),\n",
    "    japan\n",
    ")\n",
    "print(knowledge.formula())"
   ]
  },
  {
   "cell_type": "code",
   "execution_count": 6,
   "id": "5f944c96",
   "metadata": {},
   "outputs": [
    {
     "name": "stdout",
     "output_type": "stream",
     "text": [
      "True\n"
     ]
    }
   ],
   "source": [
    "print(model_check(knowledge, rain))"
   ]
  },
  {
   "cell_type": "code",
   "execution_count": null,
   "id": "45adc01a",
   "metadata": {},
   "outputs": [],
   "source": []
  }
 ],
 "metadata": {
  "kernelspec": {
   "display_name": "Python 3 (ipykernel)",
   "language": "python",
   "name": "python3"
  },
  "language_info": {
   "codemirror_mode": {
    "name": "ipython",
    "version": 3
   },
   "file_extension": ".py",
   "mimetype": "text/x-python",
   "name": "python",
   "nbconvert_exporter": "python",
   "pygments_lexer": "ipython3",
   "version": "3.11.5"
  }
 },
 "nbformat": 4,
 "nbformat_minor": 5
}
