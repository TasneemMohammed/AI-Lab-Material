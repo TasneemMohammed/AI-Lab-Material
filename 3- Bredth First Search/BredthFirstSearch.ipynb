{
 "cells": [
  {
   "cell_type": "code",
   "execution_count": 1,
   "id": "1f59aed3-f4b1-4899-bae8-fc3fcb0c07e0",
   "metadata": {},
   "outputs": [],
   "source": [
    "def bredthFirstSearch(graph, start):\n",
    "    queue, path = [start], []\n",
    "    while queue:\n",
    "        vertex = queue.pop(0)\n",
    "        if vertex in path:\n",
    "            continue\n",
    "        path.append(vertex)\n",
    "        for child in graph[vertex]:\n",
    "            queue.append(child)\n",
    "    return path"
   ]
  },
  {
   "cell_type": "code",
   "execution_count": 3,
   "id": "e150fb9c-0cbd-4318-b6f2-467336d4d154",
   "metadata": {},
   "outputs": [
    {
     "name": "stdout",
     "output_type": "stream",
     "text": [
      "[1, 2, 3, 4, 5, 6, 7]\n"
     ]
    }
   ],
   "source": [
    "input_graph = {1: [2, 3], 2: [4, 5],\n",
    "                    3: [5], 4: [6], 5: [6],\n",
    "                    6: [7], 7: []}\n",
    "print(bredthFirstSearch(input_graph, 1))"
   ]
  },
  {
   "cell_type": "code",
   "execution_count": 5,
   "id": "414f5b48-de44-430b-bb0a-99f83742c27f",
   "metadata": {},
   "outputs": [
    {
     "name": "stdout",
     "output_type": "stream",
     "text": [
      "['A', 'B', 'C', 'D', 'E', 'F']\n"
     ]
    }
   ],
   "source": [
    "graph = {'A': ['B', 'C'],\n",
    "         'B': ['D', 'E'],\n",
    "         'C': ['F'],\n",
    "         'D': [],\n",
    "         'E': [],\n",
    "         'F': []}\n",
    "print(bredthFirstSearch(graph, 'A'))"
   ]
  },
  {
   "cell_type": "code",
   "execution_count": null,
   "id": "d7944e00-99c4-4ce8-b069-d0ed18b5fd5a",
   "metadata": {},
   "outputs": [],
   "source": []
  },
  {
   "cell_type": "code",
   "execution_count": null,
   "id": "796d7707-4c70-436b-a3d2-ef21e386041c",
   "metadata": {},
   "outputs": [],
   "source": []
  }
 ],
 "metadata": {
  "kernelspec": {
   "display_name": "Python 3 (ipykernel)",
   "language": "python",
   "name": "python3"
  },
  "language_info": {
   "codemirror_mode": {
    "name": "ipython",
    "version": 3
   },
   "file_extension": ".py",
   "mimetype": "text/x-python",
   "name": "python",
   "nbconvert_exporter": "python",
   "pygments_lexer": "ipython3",
   "version": "3.11.7"
  }
 },
 "nbformat": 4,
 "nbformat_minor": 5
}
