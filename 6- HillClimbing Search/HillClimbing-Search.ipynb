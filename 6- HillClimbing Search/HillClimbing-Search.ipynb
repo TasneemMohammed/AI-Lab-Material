{
 "cells": [
  {
   "cell_type": "code",
   "execution_count": 1,
   "metadata": {},
   "outputs": [],
   "source": [
    "import queue as Q"
   ]
  },
  {
   "cell_type": "code",
   "execution_count": 3,
   "metadata": {},
   "outputs": [],
   "source": [
    "test_graph = {\n",
    "            'S':{'B':10, 'A':8, 'F':7},\n",
    "            'A':{'G':0},\n",
    "            'B':{'C':2, 'D':4},\n",
    "            'C':{'H':0},\n",
    "            'F':{'E':5, 'K':3},\n",
    "            'E':{'I':2},\n",
    "            'I':{'G':0},\n",
    "            'G':{},\n",
    "            'D':{},\n",
    "            'H':{},\n",
    "            'K':{}\n",
    "} \n",
    "\n",
    "graph = {\n",
    "            'S':{'A':5, 'B':2, 'C':4},\n",
    "            'A':{'D':9, 'E':4},\n",
    "            'B':{'G':6},\n",
    "            'C':{'F':2},\n",
    "            'D':{'H':7},\n",
    "            'E':{'G':1},\n",
    "            'G':{},\n",
    "            'F':{'G':1},\n",
    "            'H':{} \n",
    "        }\n",
    "\n",
    "source = 'S'\n",
    "target = 'G'\n",
    "hStart= 8 "
   ]
  },
  {
   "cell_type": "code",
   "execution_count": 4,
   "metadata": {},
   "outputs": [],
   "source": [
    "def hill_climbing(graph, start, end, hStart):\n",
    "    \n",
    "    priorityQueue = Q.PriorityQueue()\n",
    "    priorityQueue.put((hStart, [start]))\n",
    "    path = []\n",
    "    while not priorityQueue.empty():\n",
    "        node = priorityQueue.get()\n",
    "        print(node)\n",
    "        current = node[1][-1]\n",
    "        cost = node[0]\n",
    "        print(\"node: \", node, \"current: \", current, \"cost: \", cost)\n",
    "        \n",
    "        if end == current:\n",
    "            print(\"path\", path)\n",
    "            break\n",
    "            \n",
    "        print(graph[current])\n",
    "        \n",
    "        priorityQueue.queue.clear()\n",
    "        for vertex, newCost in graph[current].items():\n",
    "                path = node[1][:]\n",
    "                path.append(vertex)\n",
    "                priorityQueue.put((newCost, path))\n",
    "    return path"
   ]
  },
  {
   "cell_type": "code",
   "execution_count": 5,
   "metadata": {},
   "outputs": [
    {
     "name": "stdout",
     "output_type": "stream",
     "text": [
      "(8, ['S'])\n",
      "node:  (8, ['S']) current:  S cost:  8\n",
      "{'B': 10, 'A': 8, 'F': 7}\n",
      "(7, ['S', 'F'])\n",
      "node:  (7, ['S', 'F']) current:  F cost:  7\n",
      "{'E': 5, 'K': 3}\n",
      "(3, ['S', 'F', 'K'])\n",
      "node:  (3, ['S', 'F', 'K']) current:  K cost:  3\n",
      "{}\n",
      "['S', 'F', 'K']\n"
     ]
    }
   ],
   "source": [
    "path = hill_climbing(test_graph, source, target, hStart)\n",
    "print(path)"
   ]
  },
  {
   "cell_type": "code",
   "execution_count": null,
   "metadata": {},
   "outputs": [],
   "source": []
  },
  {
   "cell_type": "code",
   "execution_count": null,
   "metadata": {},
   "outputs": [],
   "source": []
  },
  {
   "cell_type": "code",
   "execution_count": null,
   "metadata": {},
   "outputs": [],
   "source": []
  },
  {
   "cell_type": "code",
   "execution_count": null,
   "metadata": {},
   "outputs": [],
   "source": []
  }
 ],
 "metadata": {
  "kernelspec": {
   "display_name": "Python 3 (ipykernel)",
   "language": "python",
   "name": "python3"
  },
  "language_info": {
   "codemirror_mode": {
    "name": "ipython",
    "version": 3
   },
   "file_extension": ".py",
   "mimetype": "text/x-python",
   "name": "python",
   "nbconvert_exporter": "python",
   "pygments_lexer": "ipython3",
   "version": "3.11.7"
  }
 },
 "nbformat": 4,
 "nbformat_minor": 4
}
