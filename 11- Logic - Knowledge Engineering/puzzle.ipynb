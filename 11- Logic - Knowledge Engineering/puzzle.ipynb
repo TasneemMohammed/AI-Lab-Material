{
 "cells": [
  {
   "cell_type": "code",
   "execution_count": 1,
   "id": "681a7f27",
   "metadata": {},
   "outputs": [],
   "source": [
    "from logic import *"
   ]
  },
  {
   "cell_type": "code",
   "execution_count": 2,
   "id": "829a17cb",
   "metadata": {},
   "outputs": [],
   "source": [
    "# Each propositional symbol is either True or False\n",
    "# Here we have 16 propositional symbol\n",
    "people = [\"sara\", \"nourhan\", \"nourelhoda\", \"tasneem\"]\n",
    "houses = [\"House1\", \"House2\", \"House3\", \"House4\"]\n",
    "\n",
    "symbols = []"
   ]
  },
  {
   "cell_type": "code",
   "execution_count": 3,
   "id": "b8a040b9",
   "metadata": {},
   "outputs": [
    {
     "name": "stdout",
     "output_type": "stream",
     "text": [
      "[saraHouse1, saraHouse2, saraHouse3, saraHouse4, nourhanHouse1, nourhanHouse2, nourhanHouse3, nourhanHouse4, nourelhodaHouse1, nourelhodaHouse2, nourelhodaHouse3, nourelhodaHouse4, tasneemHouse1, tasneemHouse2, tasneemHouse3, tasneemHouse4]\n"
     ]
    }
   ],
   "source": [
    "knowledge = And()\n",
    "\n",
    "for person in people:\n",
    "    for house in houses:\n",
    "        symbols.append(Symbol(f\"{person}{house}\"))\n",
    "print(symbols)"
   ]
  },
  {
   "cell_type": "code",
   "execution_count": 4,
   "id": "c3831f6c",
   "metadata": {},
   "outputs": [],
   "source": [
    "# Each person belongs to a house.\n",
    "for person in people:\n",
    "    knowledge.add(Or(\n",
    "        Symbol(f\"{person}House1\"),\n",
    "        Symbol(f\"{person}House2\"),\n",
    "        Symbol(f\"{person}House3\"),\n",
    "        Symbol(f\"{person}House4\")\n",
    "    )) \n",
    "#print(knowledge.formula())    "
   ]
  },
  {
   "cell_type": "code",
   "execution_count": 5,
   "id": "8e617968",
   "metadata": {},
   "outputs": [],
   "source": [
    "# Only one house per person. (if he is in one house, he is not in another house)\n",
    "for person in people:\n",
    "    for h1 in houses:\n",
    "        for h2 in houses:\n",
    "            if h1 != h2:\n",
    "                knowledge.add(\n",
    "                    Implication(Symbol(f\"{person}{h1}\"), Not(Symbol(f\"{person}{h2}\")))\n",
    "                )\n"
   ]
  },
  {
   "cell_type": "code",
   "execution_count": 6,
   "id": "73e8d2be",
   "metadata": {},
   "outputs": [],
   "source": [
    "# Only one person per house.\n",
    "for house in houses:\n",
    "    for p1 in people:\n",
    "        for p2 in people:\n",
    "            if p1 != p2:\n",
    "                knowledge.add(\n",
    "                    Implication(Symbol(f\"{p1}{house}\"), Not(Symbol(f\"{p2}{house}\")))\n",
    "                )"
   ]
  },
  {
   "cell_type": "code",
   "execution_count": 7,
   "id": "4be5f8cf",
   "metadata": {},
   "outputs": [],
   "source": [
    "knowledge.add(Or(Symbol(\"saraHouse1\"), Symbol(\"saraHouse3\")))\n",
    "\n",
    "knowledge.add(Not(Symbol(\"nourhanHouse4\")))\n",
    "\n",
    "knowledge.add(Symbol(\"nourelhodaHouse1\"))"
   ]
  },
  {
   "cell_type": "code",
   "execution_count": 8,
   "id": "a3c737ef",
   "metadata": {},
   "outputs": [
    {
     "name": "stdout",
     "output_type": "stream",
     "text": [
      "saraHouse3\n",
      "nourhanHouse2\n",
      "nourelhodaHouse1\n",
      "tasneemHouse4\n"
     ]
    }
   ],
   "source": [
    "for symbol in symbols:\n",
    "    if model_check(knowledge, symbol):\n",
    "        print(symbol)"
   ]
  },
  {
   "cell_type": "code",
   "execution_count": null,
   "id": "a9abf3d8",
   "metadata": {},
   "outputs": [],
   "source": []
  }
 ],
 "metadata": {
  "kernelspec": {
   "display_name": "Python 3 (ipykernel)",
   "language": "python",
   "name": "python3"
  },
  "language_info": {
   "codemirror_mode": {
    "name": "ipython",
    "version": 3
   },
   "file_extension": ".py",
   "mimetype": "text/x-python",
   "name": "python",
   "nbconvert_exporter": "python",
   "pygments_lexer": "ipython3",
   "version": "3.11.7"
  }
 },
 "nbformat": 4,
 "nbformat_minor": 5
}
