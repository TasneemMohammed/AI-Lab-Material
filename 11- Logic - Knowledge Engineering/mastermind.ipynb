{
 "cells": [
  {
   "cell_type": "markdown",
   "id": "775f6f13",
   "metadata": {},
   "source": [
    "## Master mind"
   ]
  },
  {
   "cell_type": "code",
   "execution_count": 4,
   "id": "28e68f00",
   "metadata": {},
   "outputs": [],
   "source": [
    "from logic import*"
   ]
  },
  {
   "cell_type": "code",
   "execution_count": 5,
   "id": "407d9d76",
   "metadata": {},
   "outputs": [
    {
     "data": {
      "text/plain": [
       "[red0,\n",
       " blue0,\n",
       " green0,\n",
       " yellow0,\n",
       " red1,\n",
       " blue1,\n",
       " green1,\n",
       " yellow1,\n",
       " red2,\n",
       " blue2,\n",
       " green2,\n",
       " yellow2,\n",
       " red3,\n",
       " blue3,\n",
       " green3,\n",
       " yellow3]"
      ]
     },
     "execution_count": 5,
     "metadata": {},
     "output_type": "execute_result"
    }
   ],
   "source": [
    "colors = [\"red\", \"blue\", \"green\", \"yellow\"]\n",
    "symbols = []\n",
    "for i in range(4):\n",
    "    for color in colors:\n",
    "        symbols.append(Symbol(f\"{color}{i}\"))\n",
    "symbols        "
   ]
  },
  {
   "cell_type": "code",
   "execution_count": 6,
   "id": "114c2701",
   "metadata": {},
   "outputs": [],
   "source": [
    "knowledge = And()\n",
    "\n",
    "# Each color has a position.\n",
    "for color in colors:\n",
    "    knowledge.add(Or(\n",
    "        Symbol(f\"{color}0\"),\n",
    "        Symbol(f\"{color}1\"),\n",
    "        Symbol(f\"{color}2\"),\n",
    "        Symbol(f\"{color}3\")\n",
    "    ))"
   ]
  },
  {
   "cell_type": "code",
   "execution_count": 7,
   "id": "55cc8694",
   "metadata": {},
   "outputs": [],
   "source": [
    "# Only one position per color.\n",
    "for color in colors:\n",
    "    for i in range(4):\n",
    "        for j in range(4):\n",
    "            if i != j:\n",
    "                knowledge.add(Implication(\n",
    "                    Symbol(f\"{color}{i}\"), Not(Symbol(f\"{color}{j}\"))\n",
    "                ))"
   ]
  },
  {
   "cell_type": "code",
   "execution_count": 8,
   "id": "3cd30d24",
   "metadata": {},
   "outputs": [],
   "source": [
    "# Only one color per position.\n",
    "for i in range(4):\n",
    "    for c1 in colors:\n",
    "        for c2 in colors:\n",
    "            if c1 != c2:\n",
    "                knowledge.add(Implication(\n",
    "                    Symbol(f\"{c1}{i}\"), Not(Symbol(f\"{c2}{i}\"))\n",
    "                ))\n"
   ]
  },
  {
   "cell_type": "code",
   "execution_count": 9,
   "id": "49ec8fbf",
   "metadata": {},
   "outputs": [],
   "source": [
    "knowledge.add(Or(\n",
    "    And(Symbol(\"red0\"), Symbol(\"blue1\"), Not(Symbol(\"green2\")), Not(Symbol(\"yellow3\"))),\n",
    "    And(Symbol(\"red0\"), Symbol(\"green2\"), Not(Symbol(\"blue1\")), Not(Symbol(\"yellow3\"))),\n",
    "    And(Symbol(\"red0\"), Symbol(\"yellow3\"), Not(Symbol(\"blue1\")), Not(Symbol(\"green2\"))),\n",
    "    And(Symbol(\"blue1\"), Symbol(\"green2\"), Not(Symbol(\"red0\")), Not(Symbol(\"yellow3\"))),\n",
    "    And(Symbol(\"blue1\"), Symbol(\"yellow3\"), Not(Symbol(\"red0\")), Not(Symbol(\"green2\"))),\n",
    "    And(Symbol(\"green2\"), Symbol(\"yellow3\"), Not(Symbol(\"red0\")), Not(Symbol(\"blue1\")))\n",
    "))"
   ]
  },
  {
   "cell_type": "code",
   "execution_count": 10,
   "id": "545d79e7",
   "metadata": {},
   "outputs": [],
   "source": [
    "knowledge.add(And(\n",
    "    Not(Symbol(\"blue0\")),\n",
    "    Not(Symbol(\"red1\")),\n",
    "    Not(Symbol(\"green2\")),\n",
    "    Not(Symbol(\"yellow3\"))\n",
    "))"
   ]
  },
  {
   "cell_type": "code",
   "execution_count": 11,
   "id": "2722a4bb",
   "metadata": {},
   "outputs": [
    {
     "name": "stdout",
     "output_type": "stream",
     "text": [
      "red0\n",
      "blue1\n",
      "yellow2\n",
      "green3\n"
     ]
    }
   ],
   "source": [
    "for symbol in symbols:\n",
    "    if model_check(knowledge, symbol):\n",
    "        print(symbol)\n"
   ]
  },
  {
   "cell_type": "code",
   "execution_count": null,
   "id": "7e3011c5",
   "metadata": {},
   "outputs": [],
   "source": []
  }
 ],
 "metadata": {
  "kernelspec": {
   "display_name": "Python 3 (ipykernel)",
   "language": "python",
   "name": "python3"
  },
  "language_info": {
   "codemirror_mode": {
    "name": "ipython",
    "version": 3
   },
   "file_extension": ".py",
   "mimetype": "text/x-python",
   "name": "python",
   "nbconvert_exporter": "python",
   "pygments_lexer": "ipython3",
   "version": "3.11.7"
  }
 },
 "nbformat": 4,
 "nbformat_minor": 5
}
