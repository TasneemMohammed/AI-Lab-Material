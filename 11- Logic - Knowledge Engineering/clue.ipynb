{
 "cells": [
  {
   "cell_type": "markdown",
   "id": "f232d32d-d81d-41a0-b9d2-a87b1cd20c93",
   "metadata": {},
   "source": [
    "# CLUE"
   ]
  },
  {
   "cell_type": "code",
   "execution_count": 1,
   "id": "a3ea89d0",
   "metadata": {},
   "outputs": [],
   "source": [
    "import termcolor\n",
    "from logic import *"
   ]
  },
  {
   "cell_type": "code",
   "execution_count": 2,
   "id": "4feef1ea",
   "metadata": {},
   "outputs": [],
   "source": [
    "tasneem = Symbol(\"tasneem\")\n",
    "nourhan = Symbol(\"nourhan\")\n",
    "nourelhoda = Symbol(\"nourelhoda\")\n",
    "characters = [tasneem, nourhan, nourelhoda]"
   ]
  },
  {
   "cell_type": "code",
   "execution_count": 3,
   "id": "45cd7273",
   "metadata": {},
   "outputs": [],
   "source": [
    "ballroom = Symbol(\"ballroom\")\n",
    "kitchen = Symbol(\"kitchen\")\n",
    "library = Symbol(\"library\")\n",
    "rooms = [ballroom, kitchen, library]"
   ]
  },
  {
   "cell_type": "code",
   "execution_count": 4,
   "id": "8b7cf9de",
   "metadata": {},
   "outputs": [],
   "source": [
    "knife = Symbol(\"knife\")\n",
    "gun = Symbol(\"gun\")\n",
    "wrench = Symbol(\"wrench\")\n",
    "weapons = [knife, gun, wrench]"
   ]
  },
  {
   "cell_type": "code",
   "execution_count": 5,
   "id": "1d811bab",
   "metadata": {},
   "outputs": [
    {
     "data": {
      "text/plain": [
       "[tasneem, nourhan, nourelhoda, ballroom, kitchen, library, knife, gun, wrench]"
      ]
     },
     "execution_count": 5,
     "metadata": {},
     "output_type": "execute_result"
    }
   ],
   "source": [
    "symbols = characters + rooms + weapons\n",
    "symbols"
   ]
  },
  {
   "cell_type": "code",
   "execution_count": 6,
   "id": "c1780858",
   "metadata": {},
   "outputs": [],
   "source": [
    "def check_knowledge(knowledge):\n",
    "    for symbol in symbols:\n",
    "        if model_check(knowledge, symbol):\n",
    "            termcolor.cprint(f\"{symbol}: YES\", \"green\")\n",
    "        elif not model_check(knowledge, Not(symbol)):\n",
    "            #print(model_check(knowledge, Not(symbol)))\n",
    "            print(f\"{symbol}: MAYBE\")"
   ]
  },
  {
   "cell_type": "code",
   "execution_count": 7,
   "id": "8da22b9b",
   "metadata": {},
   "outputs": [
    {
     "name": "stdout",
     "output_type": "stream",
     "text": [
      "(tasneem ∨  nourhan ∨  nourelhoda) ∧ (ballroom ∨  kitchen ∨  library) ∧ (knife ∨  gun ∨  wrench)\n",
      "tasneem: MAYBE\n",
      "nourhan: MAYBE\n",
      "nourelhoda: MAYBE\n",
      "ballroom: MAYBE\n",
      "kitchen: MAYBE\n",
      "library: MAYBE\n",
      "knife: MAYBE\n",
      "gun: MAYBE\n",
      "wrench: MAYBE\n"
     ]
    }
   ],
   "source": [
    "# There must be a person, room, and weapon.\n",
    "knowledge = And(\n",
    "    Or(tasneem, nourhan, nourelhoda),\n",
    "    Or(ballroom, kitchen, library),\n",
    "    Or(knife, gun, wrench)\n",
    ")\n",
    "print(knowledge.formula())\n",
    "check_knowledge(knowledge)"
   ]
  },
  {
   "cell_type": "code",
   "execution_count": 8,
   "id": "4aeda4d4",
   "metadata": {},
   "outputs": [
    {
     "name": "stdout",
     "output_type": "stream",
     "text": [
      "(tasneem ∨  nourhan ∨  nourelhoda) ∧ (ballroom ∨  kitchen ∨  library) ∧ (knife ∨  gun ∨  wrench) ∧ ((¬tasneem) ∧ (¬kitchen) ∧ (¬gun))\n",
      "nourhan: MAYBE\n",
      "nourelhoda: MAYBE\n",
      "ballroom: MAYBE\n",
      "library: MAYBE\n",
      "knife: MAYBE\n",
      "wrench: MAYBE\n"
     ]
    }
   ],
   "source": [
    "# Initial cards\n",
    "knowledge.add(And(\n",
    "    Not(tasneem), Not(kitchen), Not(gun)\n",
    "))\n",
    "print(knowledge.formula())\n",
    "check_knowledge(knowledge)"
   ]
  },
  {
   "cell_type": "code",
   "execution_count": 9,
   "id": "1591ba27",
   "metadata": {},
   "outputs": [
    {
     "name": "stdout",
     "output_type": "stream",
     "text": [
      "(tasneem ∨  nourhan ∨  nourelhoda) ∧ (ballroom ∨  kitchen ∨  library) ∧ (knife ∨  gun ∨  wrench) ∧ ((¬tasneem) ∧ (¬kitchen) ∧ (¬gun)) ∧ ((¬nourelhoda) ∨  (¬library) ∨  (¬wrench))\n",
      "nourhan: MAYBE\n",
      "nourelhoda: MAYBE\n",
      "ballroom: MAYBE\n",
      "library: MAYBE\n",
      "knife: MAYBE\n",
      "wrench: MAYBE\n"
     ]
    }
   ],
   "source": [
    "# Unknown card\n",
    "knowledge.add(Or(\n",
    "    Not(nourelhoda), Not(library), Not(wrench)\n",
    "))\n",
    "print(knowledge.formula())\n",
    "check_knowledge(knowledge)"
   ]
  },
  {
   "cell_type": "code",
   "execution_count": 10,
   "id": "7b112e45",
   "metadata": {},
   "outputs": [
    {
     "name": "stdout",
     "output_type": "stream",
     "text": [
      "(tasneem ∨  nourhan ∨  nourelhoda) ∧ (ballroom ∨  kitchen ∨  library) ∧ (knife ∨  gun ∨  wrench) ∧ ((¬tasneem) ∧ (¬kitchen) ∧ (¬gun)) ∧ ((¬nourelhoda) ∨  (¬library) ∨  (¬wrench)) ∧ (¬nourhan) ∧ (¬ballroom)\n",
      "\u001b[32mnourelhoda: YES\u001b[0m\n",
      "\u001b[32mlibrary: YES\u001b[0m\n",
      "\u001b[32mknife: YES\u001b[0m\n"
     ]
    }
   ],
   "source": [
    "# Known cards\n",
    "knowledge.add(Not(nourhan))\n",
    "knowledge.add(Not(ballroom))\n",
    "print(knowledge.formula())\n",
    "check_knowledge(knowledge)"
   ]
  },
  {
   "cell_type": "code",
   "execution_count": null,
   "id": "dd1f13bf",
   "metadata": {},
   "outputs": [],
   "source": []
  },
  {
   "cell_type": "code",
   "execution_count": null,
   "id": "80a53cb6",
   "metadata": {},
   "outputs": [],
   "source": []
  }
 ],
 "metadata": {
  "kernelspec": {
   "display_name": "Python 3 (ipykernel)",
   "language": "python",
   "name": "python3"
  },
  "language_info": {
   "codemirror_mode": {
    "name": "ipython",
    "version": 3
   },
   "file_extension": ".py",
   "mimetype": "text/x-python",
   "name": "python",
   "nbconvert_exporter": "python",
   "pygments_lexer": "ipython3",
   "version": "3.11.7"
  }
 },
 "nbformat": 4,
 "nbformat_minor": 5
}
