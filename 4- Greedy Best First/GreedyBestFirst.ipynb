{
 "cells": [
  {
   "cell_type": "code",
   "execution_count": 1,
   "metadata": {},
   "outputs": [],
   "source": [
    "import queue as Q"
   ]
  },
  {
   "cell_type": "code",
   "execution_count": 3,
   "metadata": {},
   "outputs": [
    {
     "name": "stdout",
     "output_type": "stream",
     "text": [
      "{'S': {'B': 10, 'A': 8, 'F': 7}, 'A': {'G': 0}, 'B': {'C': 2, 'D': 4}, 'C': {'H': 0}, 'F': {'E': 5, 'K': 3}, 'E': {'I': 2}, 'G': {}, 'D': {}, 'H': {}, 'K': {}, 'I': {'G': 0}}\n"
     ]
    }
   ],
   "source": [
    "graph = {\n",
    "            'S':{'A':5, 'B':2, 'C':4},\n",
    "            'A':{'D':9, 'E':4},\n",
    "            'B':{'G':6},\n",
    "            'C':{'F':2},\n",
    "            'D':{'H':7},\n",
    "            'E':{'G':1},\n",
    "            'G':{},\n",
    "            'F':{'G':1},\n",
    "            'H':{} \n",
    "        } \n",
    "\n",
    "graph1 = {1: {2:1, 3:2}, 2: {4:3, 5:4},\n",
    "          3: {7:11}, 4: {6:6}, 5: {},\n",
    "          6: {}, 7: {}}\n",
    "\n",
    "test_graph = {\n",
    "            'S':{'B':10, 'A':8, 'F':7},\n",
    "            'A':{'G':0},\n",
    "            'B':{'C':2, 'D':4},\n",
    "            'C':{'H':0},\n",
    "            'F':{'E':5, 'K':3},\n",
    "            'E':{'I':2},\n",
    "            'G':{},\n",
    "            'D':{},\n",
    "            'H':{},\n",
    "            'K':{},\n",
    "            'I':{'G':0}\n",
    "        }  \n",
    "  \n",
    "print(test_graph)\n",
    "source = 'S'\n",
    "target = 'G'"
   ]
  },
  {
   "cell_type": "code",
   "execution_count": 5,
   "metadata": {},
   "outputs": [
    {
     "name": "stdout",
     "output_type": "stream",
     "text": [
      "node:  (0, ['S']) current:  S\n",
      "{'B': 10, 'A': 8, 'F': 7}\n",
      "node:  (7, ['S', 'F']) current:  F\n",
      "{'E': 5, 'K': 3}\n",
      "node:  (3, ['S', 'F', 'K']) current:  K\n",
      "{}\n",
      "node:  (5, ['S', 'F', 'E']) current:  E\n",
      "{'I': 2}\n",
      "node:  (2, ['S', 'F', 'E', 'I']) current:  I\n",
      "{'G': 0}\n",
      "node:  (0, ['S', 'F', 'E', 'I', 'G']) current:  G\n",
      "\n"
     ]
    }
   ],
   "source": [
    "def best_first_search(graph, start, end):\n",
    "    \n",
    "    priorityQueue = Q.PriorityQueue()\n",
    "    priorityQueue.put((0, [start]))\n",
    "    \n",
    "    while not priorityQueue.empty():\n",
    "        node = priorityQueue.get()\n",
    "        current = node[1][-1]\n",
    "        print(\"node: \", node, \"current: \", current)\n",
    "        \n",
    "        if end == current:\n",
    "            break\n",
    "            \n",
    "        print(graph[current])\n",
    "        for vertex, cost in graph[current].items():\n",
    "                path = node[1][:]\n",
    "                path.append(vertex)\n",
    "                priorityQueue.put((cost, path)) \n",
    "    print()\n",
    "\n",
    "best_first_search(test_graph, source, target)"
   ]
  },
  {
   "cell_type": "code",
   "execution_count": null,
   "metadata": {},
   "outputs": [],
   "source": []
  }
 ],
 "metadata": {
  "kernelspec": {
   "display_name": "Python 3 (ipykernel)",
   "language": "python",
   "name": "python3"
  },
  "language_info": {
   "codemirror_mode": {
    "name": "ipython",
    "version": 3
   },
   "file_extension": ".py",
   "mimetype": "text/x-python",
   "name": "python",
   "nbconvert_exporter": "python",
   "pygments_lexer": "ipython3",
   "version": "3.11.7"
  }
 },
 "nbformat": 4,
 "nbformat_minor": 4
}
