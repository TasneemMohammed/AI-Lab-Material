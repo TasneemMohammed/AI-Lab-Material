{
 "cells": [
  {
   "cell_type": "code",
   "execution_count": 1,
   "id": "d9e71ada-0e58-482c-aa70-9fcbb49a0991",
   "metadata": {},
   "outputs": [],
   "source": [
    "def depthFirstSearch(graph, start):\n",
    "    stack, path = [start], []\n",
    "    while stack:\n",
    "        vertex = stack.pop()\n",
    "        if vertex in path: \n",
    "            continue\n",
    "        path.append(vertex)\n",
    "        for child in reversed(graph[vertex]):\n",
    "            stack.append(child)\n",
    "    return path"
   ]
  },
  {
   "cell_type": "code",
   "execution_count": 3,
   "id": "077a4823-afa5-4a8f-8918-f404074179a3",
   "metadata": {},
   "outputs": [
    {
     "name": "stdout",
     "output_type": "stream",
     "text": [
      "[1, 2, 4, 6, 7, 5, 3]\n"
     ]
    }
   ],
   "source": [
    "input_graph = {1:[2, 3], 2:[4, 5], 3:[5], 4:[6], 5:[6],6:[7], 7:[]}\n",
    "print(depthFirstSearch(input_graph, 1))"
   ]
  },
  {
   "cell_type": "code",
   "execution_count": 5,
   "id": "a088f357-ea36-4271-b63b-59fe28eb60df",
   "metadata": {},
   "outputs": [
    {
     "name": "stdout",
     "output_type": "stream",
     "text": [
      "['A', 'B', 'D', 'E', 'C', 'F']\n"
     ]
    }
   ],
   "source": [
    "graph2 = {'A': ['B', 'C'],\n",
    "         'B': ['D', 'E'],\n",
    "         'C': ['F'],\n",
    "         'D': [],\n",
    "         'E': [],\n",
    "         'F': []}\n",
    "print(depthFirstSearch(graph2, 'A'))"
   ]
  },
  {
   "cell_type": "code",
   "execution_count": null,
   "id": "607b4441-3093-469d-8f57-4611aebf97c4",
   "metadata": {},
   "outputs": [],
   "source": []
  }
 ],
 "metadata": {
  "kernelspec": {
   "display_name": "Python 3 (ipykernel)",
   "language": "python",
   "name": "python3"
  },
  "language_info": {
   "codemirror_mode": {
    "name": "ipython",
    "version": 3
   },
   "file_extension": ".py",
   "mimetype": "text/x-python",
   "name": "python",
   "nbconvert_exporter": "python",
   "pygments_lexer": "ipython3",
   "version": "3.11.7"
  }
 },
 "nbformat": 4,
 "nbformat_minor": 5
}
