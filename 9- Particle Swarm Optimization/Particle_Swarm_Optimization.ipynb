{
 "cells": [
  {
   "cell_type": "markdown",
   "metadata": {
    "id": "EIxEmMu_meXl"
   },
   "source": [
    "# Particle Swarm Optimization"
   ]
  },
  {
   "cell_type": "markdown",
   "metadata": {
    "id": "B8Xe-NV6meaO"
   },
   "source": [
    "A swarm is a collection of agents or organisms; swarm intelligence can be defined as the social behaviours of a swarm in which autonomous individuals interact with each other in a self-organised manner. The interaction of individuals improves the empirical knowledge about the environment and brings the swarm to the optimal state."
   ]
  },
  {
   "cell_type": "markdown",
   "metadata": {
    "id": "5Vi3qJUamecd"
   },
   "source": [
    "There are some nature-inspired algorithms that mimic swarm intelligence. Ant Colony Optimisation (ACO) is derived from ants. Artificial Bee Colony (ABC) is inspired by honeybees swarming around their hives. This code is about Particle Swarm Optimisation (PSO) which is hinted at by bird flocking and fish schooling."
   ]
  },
  {
   "cell_type": "markdown",
   "metadata": {
    "id": "vGRTqnBdmef-"
   },
   "source": [
    "The algorithm of PSO is simple. Particles are a number of simple entities in a search space. We create a population of particles and measure their individual fitness with an objective function of the problem. Particles are then moved from their current to the next position based on their personal best location, and on the swarm’s best location so far. By iterating the moves the swarm gradually reaches an optimal point of the objective function over generations."
   ]
  },
  {
   "cell_type": "markdown",
   "metadata": {},
   "source": [
    "## Steps of Particle Swarm Optimization Algorithm"
   ]
  },
  {
   "cell_type": "markdown",
   "metadata": {},
   "source": [
    "#### 1- Import the needed libraries"
   ]
  },
  {
   "cell_type": "code",
   "execution_count": 4,
   "metadata": {
    "id": "Xayyn5QMtwvL"
   },
   "outputs": [],
   "source": [
    "import numpy as np"
   ]
  },
  {
   "cell_type": "markdown",
   "metadata": {},
   "source": [
    "#### 2- Define the problem bounds"
   ]
  },
  {
   "cell_type": "code",
   "execution_count": 5,
   "metadata": {
    "colab": {
     "base_uri": "https://localhost:8080/"
    },
    "id": "33kgsWV5t1D5",
    "outputId": "882e7edd-60df-4155-e0cd-2ec7815f9ae2"
   },
   "outputs": [
    {
     "data": {
      "text/plain": [
       "array([[-5,  5],\n",
       "       [-5,  5]])"
      ]
     },
     "execution_count": 5,
     "metadata": {},
     "output_type": "execute_result"
    }
   ],
   "source": [
    "bounds = np.array([[-5, 5], [-5, 5]])\n",
    "bounds"
   ]
  },
  {
   "cell_type": "markdown",
   "metadata": {},
   "source": [
    "#### 3- Define the objective function for optimization"
   ]
  },
  {
   "cell_type": "code",
   "execution_count": 6,
   "metadata": {
    "id": "jN7xZo8rtzAD"
   },
   "outputs": [],
   "source": [
    "def objective_function(x):\n",
    "    return x[0]**2 + x[1]**2"
   ]
  },
  {
   "cell_type": "markdown",
   "metadata": {},
   "source": [
    "#### 4- Define Particle Swarm Optimization function\n",
    "\n",
    "The parameters are the number of particles, the number of iterations, bounds, and the objective function.\n",
    "\n",
    "The return values are the global best position and the global best score.\n",
    "\n",
    "First, we will initialise the variables (particles, velocities, personal_best_positions, personal_best_scores, global_best_position, global_best_score, w, c1, c2).\n",
    "\n",
    "\n",
    "Second, we will iteratively update the velocities, positions of the particles, and personal and global bests until we reach the stopping criteria. \n",
    "\n",
    "The velocity adjustment is influenced by 3 factors: the previous velocity (Inertia component), the individual particle’s best position (Cognitive component) and the swarm’s best positions (Social component). The velocity is a speed of a moving particle to a given direction. The particle’s movement is affected by these weights in each direction. The coefficient w is called inertia weight which is a force to keep the particle moving in the same direction as the previous generation. c1 and c2 are constant acceleration values where c1=c2 is applied in the original algorithm. r1 and r2 denote hyper parameters and they cause some random perturbations. The higher value of these parameter values results in a more responsive movement of the particles.\n",
    "\n",
    "The new position is a sum of the current position and velocity.\n",
    "\n"
   ]
  },
  {
   "cell_type": "code",
   "execution_count": 7,
   "metadata": {
    "id": "Iw_EwWw_bDEz"
   },
   "outputs": [],
   "source": [
    "def particle_swarm_optimization(objective_function, bounds, num_particles, num_iterations):\n",
    "    # Initialize particles\n",
    "    particles = np.random.uniform(bounds[:, 0], bounds[:, 1], (num_particles, bounds.shape[0]))\n",
    "    #print(\"(bounds[:, 0])\",bounds[:, 0],\"bounds[:, 1]\", bounds[:, 1],\"(num_particles, bounds.shape[0])\", (num_particles, bounds.shape[0]))\n",
    "    #print(\"particles: \",particles)\n",
    "    velocities = np.zeros_like(particles)\n",
    "    personal_best_positions = particles.copy()\n",
    "    personal_best_scores = np.array([objective_function(p) for p in particles])\n",
    "\n",
    "    # Find global best\n",
    "    global_best_position = personal_best_positions[np.argmin(personal_best_scores)]\n",
    "    global_best_score = np.min(personal_best_scores)\n",
    "\n",
    "    # PSO parameters\n",
    "    w = 0.7298  # Inertia weight\n",
    "    c1 = 1.49618  # Cognitive parameter\n",
    "    c2 = 1.49618  # Social parameter\n",
    "\n",
    "    # Main loop\n",
    "    for i in range(num_iterations):\n",
    "        # Update velocities\n",
    "        velocities = w * velocities + c1 * np.random.rand() * (personal_best_positions - particles) + c2 * np.random.rand() * (global_best_position - particles)\n",
    "\n",
    "        # Update particle positions\n",
    "        particles += velocities\n",
    "\n",
    "        # Update personal bests\n",
    "        for j, p in enumerate(particles):\n",
    "            score = objective_function(p)\n",
    "            if score < personal_best_scores[j]:\n",
    "                personal_best_positions[j] = p.copy()\n",
    "                personal_best_scores[j] = score\n",
    "\n",
    "                # Update global best\n",
    "                if score < global_best_score:\n",
    "                    global_best_position = p.copy()\n",
    "                    global_best_score = score\n",
    "\n",
    "    return global_best_position, global_best_score"
   ]
  },
  {
   "cell_type": "markdown",
   "metadata": {},
   "source": [
    "#### 5- Run the Particle Swarm Optimization \n",
    "\n",
    "We created 30 particles, of which positions were randomly placed at x and y coordinates, ranging between -5 and 5. The programme should stop at the 100th generation. Finally, the best position and the best score will be displayed."
   ]
  },
  {
   "cell_type": "code",
   "execution_count": 8,
   "metadata": {
    "colab": {
     "base_uri": "https://localhost:8080/"
    },
    "id": "niu7Y8KbbEsg",
    "outputId": "e37175d5-3d91-4216-9048-234182431d50"
   },
   "outputs": [
    {
     "name": "stdout",
     "output_type": "stream",
     "text": [
      "Best position: [ 8.51058403e-07 -5.77009807e-06]\n",
      "Best score: 3.401833209150956e-11\n"
     ]
    }
   ],
   "source": [
    "best_position, best_score = particle_swarm_optimization(objective_function, bounds, num_particles=30, num_iterations=100)\n",
    "\n",
    "print(\"Best position:\", best_position)\n",
    "print(\"Best score:\", best_score)"
   ]
  },
  {
   "cell_type": "markdown",
   "metadata": {},
   "source": [
    "#### The End"
   ]
  }
 ],
 "metadata": {
  "colab": {
   "provenance": []
  },
  "kernelspec": {
   "display_name": "Python 3 (ipykernel)",
   "language": "python",
   "name": "python3"
  },
  "language_info": {
   "codemirror_mode": {
    "name": "ipython",
    "version": 3
   },
   "file_extension": ".py",
   "mimetype": "text/x-python",
   "name": "python",
   "nbconvert_exporter": "python",
   "pygments_lexer": "ipython3",
   "version": "3.9.13"
  }
 },
 "nbformat": 4,
 "nbformat_minor": 1
}
