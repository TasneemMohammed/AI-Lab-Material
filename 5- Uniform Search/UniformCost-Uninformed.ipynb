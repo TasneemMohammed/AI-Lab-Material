{
 "cells": [
  {
   "cell_type": "code",
   "execution_count": 1,
   "metadata": {},
   "outputs": [],
   "source": [
    "import queue as Q"
   ]
  },
  {
   "cell_type": "code",
   "execution_count": 3,
   "metadata": {},
   "outputs": [
    {
     "name": "stdout",
     "output_type": "stream",
     "text": [
      "{'S': {'A': 5, 'B': 2, 'C': 4}, 'A': {'D': 9, 'E': 4}, 'B': {'G': 6}, 'C': {'F': 2}, 'D': {'H': 7}, 'E': {'G': 6}, 'G': {}, 'F': {'G': 1}, 'H': {}}\n"
     ]
    }
   ],
   "source": [
    "graph = {\n",
    "            'S':{'A':5, 'B':2, 'C':4},\n",
    "            'A':{'D':9, 'E':4},\n",
    "            'B':{'G':6},\n",
    "            'C':{'F':2},\n",
    "            'D':{'H':7},\n",
    "            'E':{'G':6},\n",
    "            'G':{},\n",
    "            'F':{'G':1},\n",
    "            'H':{} \n",
    "        }  \n",
    "\n",
    "graph2 = {\n",
    "            'S':{'A':3, 'B':1, 'C':5},\n",
    "            'A':{'G':10, 'E':7},\n",
    "            'B':{'C': 2, 'F':2},\n",
    "            'C':{'G':11},\n",
    "            'D':{'S':6, 'B':4, 'G':5},\n",
    "            'E':{'G':2},\n",
    "            'G':{'F':0},\n",
    "            'F':{'D':1},\n",
    "        }  \n",
    "\n",
    "print(graph)"
   ]
  },
  {
   "cell_type": "code",
   "execution_count": 5,
   "metadata": {},
   "outputs": [],
   "source": [
    "def search(graph, start, end):\n",
    "    if start not in graph or end not in graph:\n",
    "        print(' not found in graph !')\n",
    "        return\n",
    "   \n",
    "    queue = Q.PriorityQueue()\n",
    "    queue.put((0, [start]))\n",
    "    \n",
    "    while not queue.empty():\n",
    "        node = queue.get()\n",
    "        current = node[1][-1]\n",
    "        print(\"node: \", node, \"current: \", current)\n",
    "        \n",
    "        if end in current:\n",
    "            print(\"Path found: \" + str(node[1]) + \", Cost = \" + str(node[0]))\n",
    "            break   \n",
    "        \n",
    "        cost = node[0]\n",
    "        print(\"graph[current]\", graph[current])\n",
    "        \n",
    "        for child in graph[current]:\n",
    "            print(\"child \" + child)\n",
    "            path = node[1][:]\n",
    "            path.append(child)\n",
    "            print(\"path: \", path)\n",
    "            #print(\"cost:\", graph[current][child])\n",
    "            queue.put((cost + graph[current][child], path))    "
   ]
  },
  {
   "cell_type": "code",
   "execution_count": 7,
   "metadata": {},
   "outputs": [
    {
     "name": "stdout",
     "output_type": "stream",
     "text": [
      "node:  (0, ['S']) current:  S\n",
      "graph[current] {'A': 5, 'B': 2, 'C': 4}\n",
      "child A\n",
      "path:  ['S', 'A']\n",
      "child B\n",
      "path:  ['S', 'B']\n",
      "child C\n",
      "path:  ['S', 'C']\n",
      "node:  (2, ['S', 'B']) current:  B\n",
      "graph[current] {'G': 6}\n",
      "child G\n",
      "path:  ['S', 'B', 'G']\n",
      "node:  (4, ['S', 'C']) current:  C\n",
      "graph[current] {'F': 2}\n",
      "child F\n",
      "path:  ['S', 'C', 'F']\n",
      "node:  (5, ['S', 'A']) current:  A\n",
      "graph[current] {'D': 9, 'E': 4}\n",
      "child D\n",
      "path:  ['S', 'A', 'D']\n",
      "child E\n",
      "path:  ['S', 'A', 'E']\n",
      "node:  (6, ['S', 'C', 'F']) current:  F\n",
      "graph[current] {'G': 1}\n",
      "child G\n",
      "path:  ['S', 'C', 'F', 'G']\n",
      "node:  (7, ['S', 'C', 'F', 'G']) current:  G\n",
      "Path found: ['S', 'C', 'F', 'G'], Cost = 7\n"
     ]
    }
   ],
   "source": [
    "search(graph, 'S', 'G')"
   ]
  },
  {
   "cell_type": "code",
   "execution_count": null,
   "metadata": {},
   "outputs": [],
   "source": []
  },
  {
   "cell_type": "code",
   "execution_count": null,
   "metadata": {},
   "outputs": [],
   "source": []
  }
 ],
 "metadata": {
  "kernelspec": {
   "display_name": "Python 3 (ipykernel)",
   "language": "python",
   "name": "python3"
  },
  "language_info": {
   "codemirror_mode": {
    "name": "ipython",
    "version": 3
   },
   "file_extension": ".py",
   "mimetype": "text/x-python",
   "name": "python",
   "nbconvert_exporter": "python",
   "pygments_lexer": "ipython3",
   "version": "3.11.7"
  }
 },
 "nbformat": 4,
 "nbformat_minor": 4
}
