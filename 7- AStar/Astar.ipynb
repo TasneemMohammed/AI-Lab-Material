{
 "cells": [
  {
   "cell_type": "code",
   "execution_count": 1,
   "metadata": {},
   "outputs": [],
   "source": [
    "import queue as Q"
   ]
  },
  {
   "cell_type": "code",
   "execution_count": 3,
   "metadata": {},
   "outputs": [],
   "source": [
    "graph = {'S':{'A':1, 'B':5, 'C':8},\n",
    "         'A':{'D':3, 'E':7, 'G':9},\n",
    "         'B':{'G':4},\n",
    "         'C':{'G':5},\n",
    "         'D':{},\n",
    "         'E':{},\n",
    "         'G':{}\n",
    "}\n",
    "\n",
    "h = {'S':8,\n",
    "     'A':8,\n",
    "     'B':4,\n",
    "     'C':3,\n",
    "     'D':100,\n",
    "     'E':100,\n",
    "     'G':0\n",
    "}"
   ]
  },
  {
   "cell_type": "code",
   "execution_count": 5,
   "metadata": {},
   "outputs": [],
   "source": [
    "def search(graph, h, start, end):\n",
    "    if start not in graph or end not in graph:\n",
    "        print(' not found in graph !')\n",
    "        return\n",
    "    \n",
    "    queue = Q.PriorityQueue()\n",
    "    queue.put((8, [start]))\n",
    "    \n",
    "    while not queue.empty():\n",
    "        node = queue.get()\n",
    "        print(node)\n",
    "        current = node[1][-1]\n",
    "        \n",
    "        if end == current:\n",
    "            print(\"Path found: \" + str(node[1]) + \", Cost = \" + str(node[0]))\n",
    "            break\n",
    "        \n",
    "        cost = node[0] \n",
    "        \n",
    "        for neighbor in graph[current]:\n",
    "            path = node[1][:]\n",
    "            path.append(neighbor)\n",
    "            \n",
    "            print(\"cost:\", cost, \" h[current]:\",h[current], \n",
    "                  \" graph[current][neighbor]\" ,graph[current][neighbor], \n",
    "                  \" h[neighbor]\", h[neighbor])\n",
    "            print(cost-  h[current]+ graph[current][neighbor]+ h[neighbor])\n",
    "            \n",
    "            #queue.put((cost - h[pathp[-2]] + graph[current][neighbor]+ h[neighbor], path))\n",
    "            queue.put((cost - h[current] + graph[current][neighbor] \n",
    "                       + h[neighbor], path))"
   ]
  },
  {
   "cell_type": "code",
   "execution_count": 7,
   "metadata": {},
   "outputs": [
    {
     "name": "stdout",
     "output_type": "stream",
     "text": [
      "(8, ['S'])\n",
      "cost: 8  h[current]: 8  graph[current][neighbor] 1  h[neighbor] 8\n",
      "9\n",
      "cost: 8  h[current]: 8  graph[current][neighbor] 5  h[neighbor] 4\n",
      "9\n",
      "cost: 8  h[current]: 8  graph[current][neighbor] 8  h[neighbor] 3\n",
      "11\n",
      "(9, ['S', 'A'])\n",
      "cost: 9  h[current]: 8  graph[current][neighbor] 3  h[neighbor] 100\n",
      "104\n",
      "cost: 9  h[current]: 8  graph[current][neighbor] 7  h[neighbor] 100\n",
      "108\n",
      "cost: 9  h[current]: 8  graph[current][neighbor] 9  h[neighbor] 0\n",
      "10\n",
      "(9, ['S', 'B'])\n",
      "cost: 9  h[current]: 4  graph[current][neighbor] 4  h[neighbor] 0\n",
      "9\n",
      "(9, ['S', 'B', 'G'])\n",
      "Path found: ['S', 'B', 'G'], Cost = 9\n"
     ]
    }
   ],
   "source": [
    "search(graph, h, 'S', 'G')"
   ]
  },
  {
   "cell_type": "code",
   "execution_count": null,
   "metadata": {},
   "outputs": [],
   "source": []
  },
  {
   "cell_type": "code",
   "execution_count": null,
   "metadata": {},
   "outputs": [],
   "source": []
  }
 ],
 "metadata": {
  "kernelspec": {
   "display_name": "Python 3 (ipykernel)",
   "language": "python",
   "name": "python3"
  },
  "language_info": {
   "codemirror_mode": {
    "name": "ipython",
    "version": 3
   },
   "file_extension": ".py",
   "mimetype": "text/x-python",
   "name": "python",
   "nbconvert_exporter": "python",
   "pygments_lexer": "ipython3",
   "version": "3.11.7"
  }
 },
 "nbformat": 4,
 "nbformat_minor": 4
}
